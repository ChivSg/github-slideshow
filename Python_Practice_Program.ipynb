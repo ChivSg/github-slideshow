{
  "nbformat": 4,
  "nbformat_minor": 0,
  "metadata": {
    "colab": {
      "name": "Python Practice Program",
      "provenance": [],
      "collapsed_sections": [],
      "include_colab_link": true
    },
    "kernelspec": {
      "name": "python3",
      "display_name": "Python 3"
    }
  },
  "cells": [
    {
      "cell_type": "markdown",
      "metadata": {
        "id": "view-in-github",
        "colab_type": "text"
      },
      "source": [
        "<a href=\"https://colab.research.google.com/github/ChivSg/github-slideshow/blob/master/Python_Practice_Program.ipynb\" target=\"_parent\"><img src=\"https://colab.research.google.com/assets/colab-badge.svg\" alt=\"Open In Colab\"/></a>"
      ]
    },
    {
      "cell_type": "markdown",
      "metadata": {
        "id": "aM2cphBqswPR"
      },
      "source": [
        "## Try all programs."
      ]
    },
    {
      "cell_type": "markdown",
      "metadata": {
        "id": "JzdPXdDKFLHh"
      },
      "source": [
        "1. Write a program to display 'Hello, World'"
      ]
    },
    {
      "cell_type": "code",
      "metadata": {
        "id": "5Ap2t_Uzb01u"
      },
      "source": [
        "#use print- print('hello, world')"
      ],
      "execution_count": 1,
      "outputs": []
    },
    {
      "cell_type": "markdown",
      "metadata": {
        "id": "V3EokmVvFaDK"
      },
      "source": [
        "2. Write a program to display 'Hello, Your Name'"
      ]
    },
    {
      "cell_type": "code",
      "metadata": {
        "id": "Y57beCXqcs9c"
      },
      "source": [
        ""
      ],
      "execution_count": 1,
      "outputs": []
    },
    {
      "cell_type": "markdown",
      "metadata": {
        "id": "CK2ZvTLdy5qv"
      },
      "source": [
        "3. Write a program to display your name, city, education and birthday."
      ]
    },
    {
      "cell_type": "code",
      "metadata": {
        "id": "EXws2-mkzE_I"
      },
      "source": [
        "#use print and suitable variables"
      ],
      "execution_count": 2,
      "outputs": []
    },
    {
      "cell_type": "markdown",
      "metadata": {
        "id": "C9gZdyHhFwOX"
      },
      "source": [
        "4. Write a program to display your name, place, city and Education and suitable comment about the variable."
      ]
    },
    {
      "cell_type": "code",
      "metadata": {
        "id": "jlEztqHkGLdK"
      },
      "source": [
        ""
      ],
      "execution_count": 2,
      "outputs": []
    },
    {
      "cell_type": "markdown",
      "metadata": {
        "id": "2Jjpe3clGRk1"
      },
      "source": [
        "5. Write a program to store and display first name, last name, age, height, city and pincode using suitable datatypes."
      ]
    },
    {
      "cell_type": "code",
      "metadata": {
        "id": "sStBE0TJIEMP"
      },
      "source": [
        "#use variable as FirstName, LastName, Age, Height, City, Pincode."
      ],
      "execution_count": 3,
      "outputs": []
    },
    {
      "cell_type": "markdown",
      "metadata": {
        "id": "K-NoKuL1BQLx"
      },
      "source": [
        "6. Write a program to fetch only intial letter from your  Fullname. "
      ]
    },
    {
      "cell_type": "code",
      "metadata": {
        "id": "qVcAqPjxBerR"
      },
      "source": [
        "#use string index access."
      ],
      "execution_count": 4,
      "outputs": []
    },
    {
      "cell_type": "markdown",
      "metadata": {
        "id": "9cR_97ZuIYx_"
      },
      "source": [
        "7. Write a program to add, sub, multiply and divide two numbers."
      ]
    },
    {
      "cell_type": "code",
      "metadata": {
        "id": "W2jJ8bkxROzq"
      },
      "source": [
        "#use X and Y as two variables."
      ],
      "execution_count": 5,
      "outputs": []
    },
    {
      "cell_type": "markdown",
      "metadata": {
        "id": "d29nIy5URdb8"
      },
      "source": [
        "8. Write a program to store you first name, last name , address and display your full name and address. (Concatinate)"
      ]
    },
    {
      "cell_type": "code",
      "metadata": {
        "id": "iel2RKe9RXd_"
      },
      "source": [
        "#variable, FirstName ,LastName ,City and store in Address Variable."
      ],
      "execution_count": 6,
      "outputs": []
    },
    {
      "cell_type": "markdown",
      "metadata": {
        "id": "9W5v6gJ_QiSz"
      },
      "source": [
        "9. Write a program to fecth user input data- Name, Age, Education and Place and frame complete paragragh."
      ]
    },
    {
      "cell_type": "code",
      "metadata": {
        "id": "B6R0ymZIQx3c"
      },
      "source": [
        "#use input, variables.\n",
        "# Hi, i am _____. My age is ______ and my education is _____. I belong to ____ place"
      ],
      "execution_count": 7,
      "outputs": []
    },
    {
      "cell_type": "markdown",
      "metadata": {
        "id": "968tidpGIAqQ"
      },
      "source": [
        "10. Write a program to do all the arithmatic operations on 2 user input numbers."
      ]
    },
    {
      "cell_type": "code",
      "metadata": {
        "id": "9GgrLPhpJTnm"
      },
      "source": [
        "#use 2 variables,input, all the operators and display proper result."
      ],
      "execution_count": 8,
      "outputs": []
    },
    {
      "cell_type": "markdown",
      "metadata": {
        "id": "Y9T05uOJJbVj"
      },
      "source": [
        "11. Write a program to swap two variables."
      ]
    },
    {
      "cell_type": "code",
      "metadata": {
        "id": "pCWPwO0iLQp8",
        "outputId": "3ae3a302-0844-4dc0-9379-4fd722ad245f",
        "colab": {
          "base_uri": "https://localhost:8080/",
          "height": 35
        }
      },
      "source": [
        "#use 2 variables.\n",
        "'''\n",
        "number1 = 5\n",
        "number2 = 10\n",
        "\n",
        "result number1-> 10 number2-> 5\n",
        "'''"
      ],
      "execution_count": 9,
      "outputs": [
        {
          "output_type": "execute_result",
          "data": {
            "application/vnd.google.colaboratory.intrinsic+json": {
              "type": "string"
            },
            "text/plain": [
              "'\\nnumber1 = 5\\nnumber2 = 10\\n\\nresult number1-> 10 number2-> 5\\n'"
            ]
          },
          "metadata": {
            "tags": []
          },
          "execution_count": 9
        }
      ]
    },
    {
      "cell_type": "markdown",
      "metadata": {
        "id": "eqFH2CRVLrQu"
      },
      "source": [
        "12. Write a program to find square root of a 2 digit number."
      ]
    },
    {
      "cell_type": "code",
      "metadata": {
        "id": "OeFtbJm2uqFA"
      },
      "source": [
        "#use ** exponential operator."
      ],
      "execution_count": 10,
      "outputs": []
    },
    {
      "cell_type": "markdown",
      "metadata": {
        "id": "u4nDWUOQu8KK"
      },
      "source": [
        "13. Write a program to calculate Area of triangle"
      ]
    },
    {
      "cell_type": "code",
      "metadata": {
        "id": "JGhVpPz7vBPp"
      },
      "source": [
        "#use user input of height and base value."
      ],
      "execution_count": 11,
      "outputs": []
    },
    {
      "cell_type": "markdown",
      "metadata": {
        "id": "Z111anjevQwv"
      },
      "source": [
        "14. Write a program to find area of triangle using sides"
      ]
    },
    {
      "cell_type": "code",
      "metadata": {
        "id": "KAHyseEQvW9e"
      },
      "source": [
        "#use user input of 3 sides and use heron's formula"
      ],
      "execution_count": 12,
      "outputs": []
    },
    {
      "cell_type": "markdown",
      "metadata": {
        "id": "u-HrCnycwN8_"
      },
      "source": [
        "15. Write a program to convert Kilometer to centimeter"
      ]
    },
    {
      "cell_type": "code",
      "metadata": {
        "id": "GrUDoxAowWOf",
        "outputId": "8ea063e0-ebe0-4b1e-a3f6-fbc832edb739",
        "colab": {
          "base_uri": "https://localhost:8080/",
          "height": 35
        }
      },
      "source": [
        "#use user input in kilometer.\n",
        "'''\n",
        "1 km = 1000m\n",
        "1 m = 100cm\n",
        "1 cm = 10 mili cm\n",
        "1*1000*100*10\n",
        "'''"
      ],
      "execution_count": 13,
      "outputs": [
        {
          "output_type": "execute_result",
          "data": {
            "application/vnd.google.colaboratory.intrinsic+json": {
              "type": "string"
            },
            "text/plain": [
              "'\\n1 km = 1000m\\n1 m = 100cm\\n1 cm = 10 mili cm\\n1*1000*100*10\\n'"
            ]
          },
          "metadata": {
            "tags": []
          },
          "execution_count": 13
        }
      ]
    },
    {
      "cell_type": "markdown",
      "metadata": {
        "id": "lHxNkHSIqdlJ"
      },
      "source": [
        "16. Write a Program to convert faranhite to degree celsius."
      ]
    },
    {
      "cell_type": "code",
      "metadata": {
        "id": "mnb18osiqz5E"
      },
      "source": [
        "#use user input in faranhite."
      ],
      "execution_count": 14,
      "outputs": []
    },
    {
      "cell_type": "markdown",
      "metadata": {
        "id": "BEuR98v1q4vK"
      },
      "source": [
        "17. Write a program to find area and circumference of a circle"
      ]
    },
    {
      "cell_type": "code",
      "metadata": {
        "id": "wsI0oYCfrSuJ"
      },
      "source": [
        "#use user input diameter."
      ],
      "execution_count": 15,
      "outputs": []
    },
    {
      "cell_type": "markdown",
      "metadata": {
        "id": "jv5QiZD6Zsnu"
      },
      "source": [
        "### Sequence DataTypes"
      ]
    },
    {
      "cell_type": "markdown",
      "metadata": {
        "id": "g8RZUCLQ_Vco"
      },
      "source": [
        "16. Write a program to store week days with user input in List and display."
      ]
    },
    {
      "cell_type": "code",
      "metadata": {
        "id": "cIdyOhGg_-f_"
      },
      "source": [
        "#use List and user input, start with Monday,"
      ],
      "execution_count": 16,
      "outputs": []
    },
    {
      "cell_type": "markdown",
      "metadata": {
        "id": "xFuLgJ_5AOhl"
      },
      "source": [
        "17. write a program to fetch largest, smallest number in list."
      ]
    },
    {
      "cell_type": "code",
      "metadata": {
        "id": "1ZfYjEu-AU0-"
      },
      "source": [
        "#use functions, 5 User input for values.\n",
        "#largest number is: _____ from the list: _______ "
      ],
      "execution_count": 17,
      "outputs": []
    },
    {
      "cell_type": "markdown",
      "metadata": {
        "id": "tng5tlv1biUA"
      },
      "source": [
        "18. Write a program for user input and use all type of sequence."
      ]
    },
    {
      "cell_type": "code",
      "metadata": {
        "id": "vuYamQuvF9rr"
      },
      "source": [
        "#use all the sequence datatype."
      ],
      "execution_count": 18,
      "outputs": []
    },
    {
      "cell_type": "markdown",
      "metadata": {
        "id": "v483k916CPe3"
      },
      "source": [
        "19. Write a program to create a dictionary of planets and position. {1:'Mercury'.....}"
      ]
    },
    {
      "cell_type": "code",
      "metadata": {
        "id": "QFH9tB_bCjAG"
      },
      "source": [
        "#user input the value.\n"
      ],
      "execution_count": 19,
      "outputs": []
    },
    {
      "cell_type": "markdown",
      "metadata": {
        "id": "r02-g9f7GY-A"
      },
      "source": [
        "### Conditions and loops"
      ]
    },
    {
      "cell_type": "markdown",
      "metadata": {
        "id": "jgEopNooGkDs"
      },
      "source": [
        "a. Write a program to check largest among variable x, y, z."
      ]
    },
    {
      "cell_type": "code",
      "metadata": {
        "id": "eq5q-hNXG5wD"
      },
      "source": [
        "#use user input and conditionals."
      ],
      "execution_count": 20,
      "outputs": []
    },
    {
      "cell_type": "markdown",
      "metadata": {
        "id": "KSp8G0UOHCUR"
      },
      "source": [
        "b. Write a program to check whether 3 numbers are sides of a triangle."
      ]
    },
    {
      "cell_type": "code",
      "metadata": {
        "id": "_Fi49pDMHVec"
      },
      "source": [
        "#use user input and conditionals."
      ],
      "execution_count": 21,
      "outputs": []
    },
    {
      "cell_type": "markdown",
      "metadata": {
        "id": "uzyvIngvqWiI"
      },
      "source": [
        "c. Write a program to check whether user input year is leap year."
      ]
    },
    {
      "cell_type": "code",
      "metadata": {
        "id": "c3AC6ltGqhWC"
      },
      "source": [
        "#use userinput and conditionals."
      ],
      "execution_count": 22,
      "outputs": []
    },
    {
      "cell_type": "markdown",
      "metadata": {
        "id": "PF2SV_L6HZel"
      },
      "source": [
        "d. Write a program to fetch factorial of number."
      ]
    },
    {
      "cell_type": "code",
      "metadata": {
        "id": "w-2FeeJtHmku"
      },
      "source": [
        "#user user input and loops."
      ],
      "execution_count": 23,
      "outputs": []
    },
    {
      "cell_type": "markdown",
      "metadata": {
        "id": "laXKpvkuHqBQ"
      },
      "source": [
        "e. Write a program to check whether user input number is prime number."
      ]
    },
    {
      "cell_type": "code",
      "metadata": {
        "id": "qArlM-_jshUH"
      },
      "source": [
        "#use user input and for loop."
      ],
      "execution_count": 24,
      "outputs": []
    },
    {
      "cell_type": "markdown",
      "metadata": {
        "id": "SHHF1WAej-zG"
      },
      "source": [
        "### Functions"
      ]
    },
    {
      "cell_type": "markdown",
      "metadata": {
        "id": "oXiTflwyvMlR"
      },
      "source": [
        "a. Write a user defined function to add series of numbers."
      ]
    },
    {
      "cell_type": "code",
      "metadata": {
        "id": "1ab6kA5avWJa"
      },
      "source": [
        "#use user input as list of 5 numbers and create function."
      ],
      "execution_count": 25,
      "outputs": []
    },
    {
      "cell_type": "markdown",
      "metadata": {
        "id": "P93Vs2x4vmwh"
      },
      "source": [
        "b. Write a user defined function to check positive or negative numbers from series of numbers"
      ]
    },
    {
      "cell_type": "code",
      "metadata": {
        "id": "B1xhkwWyj_u8"
      },
      "source": [
        "#use user input as list of 5 numbers and create function.\n",
        "#[-1, 2, -3, 4, -5]\n",
        "#[negative, positive, negative, positive, negative]"
      ],
      "execution_count": 26,
      "outputs": []
    },
    {
      "cell_type": "markdown",
      "metadata": {
        "id": "wNbUumuEv7fY"
      },
      "source": [
        "c. Write a user defined function to check series of number is Prime."
      ]
    },
    {
      "cell_type": "code",
      "metadata": {
        "id": "ZXQSLMSsFBix"
      },
      "source": [
        "\n"
      ],
      "execution_count": 26,
      "outputs": []
    },
    {
      "cell_type": "code",
      "metadata": {
        "id": "XvBzXhuuwJjN"
      },
      "source": [
        "#use user input as list of 5 numbers and create function.\n",
        "#result - [prime, not prime, prime, not prime, prime]\n"
      ],
      "execution_count": 27,
      "outputs": []
    },
    {
      "cell_type": "markdown",
      "metadata": {
        "id": "N-100PVAbEtq"
      },
      "source": [
        "d. Write a program to result in sqaure of series value and dictionary as result."
      ]
    },
    {
      "cell_type": "code",
      "metadata": {
        "id": "amBcfxYybkIb"
      },
      "source": [
        "#use 5 user input number and all the sequence data types.\n",
        "#result - {1: 1, 2: 4, 3: 9,.....,n: n^2}"
      ],
      "execution_count": 28,
      "outputs": []
    },
    {
      "cell_type": "markdown",
      "metadata": {
        "id": "9lca6_3TXJ-p"
      },
      "source": [
        "e. Write a program to create dice rolling mechanism with user input."
      ]
    },
    {
      "cell_type": "code",
      "metadata": {
        "id": "NTGMY5R1Xaol"
      },
      "source": [
        "#use Random, while, input."
      ],
      "execution_count": 29,
      "outputs": []
    },
    {
      "cell_type": "markdown",
      "metadata": {
        "id": "tg_HNnxCG2aP"
      },
      "source": [
        "f. Guessing Game - User will gusses the number. if gussed number is smaller or greater than actual numb, then program should guide them."
      ]
    },
    {
      "cell_type": "code",
      "metadata": {
        "id": "OGzTbgNAG1eA"
      },
      "source": [
        "#use Random, while, if, elif, input.\n"
      ],
      "execution_count": 30,
      "outputs": []
    },
    {
      "cell_type": "markdown",
      "metadata": {
        "id": "7I-xEMN_j5_C"
      },
      "source": [
        "Function Program Example."
      ]
    },
    {
      "cell_type": "code",
      "metadata": {
        "id": "E5mBSYn8iJ1o",
        "outputId": "ffc7043f-0169-4df5-afb7-daaf81e1a4b7",
        "colab": {
          "base_uri": "https://localhost:8080/",
          "height": 120
        }
      },
      "source": [
        "'''\n",
        "#-----------------------------\n",
        "def OddEven(numb):\n",
        "    if numb%2 == 0:\n",
        "        return 'Even Numb'\n",
        "    else:\n",
        "        return 'Odd Numb'\n",
        "#---------------------------- \n",
        "def PosNeg(numb):\n",
        "    if numb >= 0:\n",
        "        return 'Positive Numb'\n",
        "    else:\n",
        "        return 'Negative Numb'\n",
        "\n",
        "#------------------------------\n",
        "\n",
        "def Prime(numb):\n",
        "    flag = 0\n",
        "    for i in range(2, int(numb/2)+1 ):\n",
        "        if numb % i == 0:\n",
        "            flag = 1\n",
        "            \n",
        "    if flag == 0:\n",
        "        return 'Prime numb'\n",
        "    else:\n",
        "        return 'Not prime numb'\n",
        "    \n",
        "#-----------------------------    \n",
        "\n",
        "UserNum = int(input('Enter 4 didgit numb: '))\n",
        "\n",
        "while UserNum > 0:\n",
        "  Odd_Even = OddEven(UserNum)\n",
        "  Signs = PosNeg(UserNum)\n",
        "  prime = Prime(UserNum)\n",
        "  print('Number is: ',UserNum,'-', Odd_Even, Signs, prime)\n",
        "  UserNum = int(UserNum/2)\n",
        "\n",
        "  '''"
      ],
      "execution_count": 31,
      "outputs": [
        {
          "output_type": "execute_result",
          "data": {
            "application/vnd.google.colaboratory.intrinsic+json": {
              "type": "string"
            },
            "text/plain": [
              "\"\\n#-----------------------------\\ndef OddEven(numb):\\n    if numb%2 == 0:\\n        return 'Even Numb'\\n    else:\\n        return 'Odd Numb'\\n#---------------------------- \\ndef PosNeg(numb):\\n    if numb >= 0:\\n        return 'Positive Numb'\\n    else:\\n        return 'Negative Numb'\\n\\n#------------------------------\\n\\ndef Prime(numb):\\n    flag = 0\\n    for i in range(2, int(numb/2)+1 ):\\n        if numb % i == 0:\\n            flag = 1\\n            \\n    if flag == 0:\\n        return 'Prime numb'\\n    else:\\n        return 'Not prime numb'\\n    \\n#-----------------------------    \\n\\nUserNum = int(input('Enter 4 didgit numb: '))\\n\\nwhile UserNum > 0:\\n  Odd_Even = OddEven(UserNum)\\n  Signs = PosNeg(UserNum)\\n  prime = Prime(UserNum)\\n  print('Number is: ',UserNum,'-', Odd_Even, Signs, prime)\\n  UserNum = int(UserNum/2)\\n\\n  \""
            ]
          },
          "metadata": {
            "tags": []
          },
          "execution_count": 31
        }
      ]
    },
    {
      "cell_type": "code",
      "metadata": {
        "id": "_5FbAykaeN58"
      },
      "source": [
        ""
      ],
      "execution_count": 31,
      "outputs": []
    }
  ]
}