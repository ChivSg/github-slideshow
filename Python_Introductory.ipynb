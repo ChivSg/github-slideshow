{
  "nbformat": 4,
  "nbformat_minor": 0,
  "metadata": {
    "colab": {
      "name": "Python Introductory",
      "provenance": [],
      "collapsed_sections": [],
      "include_colab_link": true
    },
    "kernelspec": {
      "name": "python3",
      "display_name": "Python 3"
    }
  },
  "cells": [
    {
      "cell_type": "markdown",
      "metadata": {
        "id": "view-in-github",
        "colab_type": "text"
      },
      "source": [
        "<a href=\"https://colab.research.google.com/github/ChivSg/github-slideshow/blob/master/Python_Introductory.ipynb\" target=\"_parent\"><img src=\"https://colab.research.google.com/assets/colab-badge.svg\" alt=\"Open In Colab\"/></a>"
      ]
    },
    {
      "cell_type": "markdown",
      "metadata": {
        "id": "bJhNzFbhIdbn",
        "colab_type": "text"
      },
      "source": [
        "**Introduction to Programming Language**"
      ]
    },
    {
      "cell_type": "markdown",
      "metadata": {
        "id": "5hZBZLyAwXdN",
        "colab_type": "text"
      },
      "source": [
        "Programming is everywhere, from your TV to your car we are completely surronded with devices which work on basis of programming."
      ]
    },
    {
      "cell_type": "markdown",
      "metadata": {
        "id": "Gef6lHv1wYbH",
        "colab_type": "text"
      },
      "source": [
        "What is Programming? Programming is set of instructions given to the computer to accomplish desired task. eg- changing the channel in TV with the help of remote, calling from your mobile, your bluetooth earphones etc. \n",
        "Lets code."
      ]
    },
    {
      "cell_type": "markdown",
      "metadata": {
        "id": "_54mr7rGKb6u",
        "colab_type": "text"
      },
      "source": [
        "write a program to display 'Hello Your Name' message. "
      ]
    },
    {
      "cell_type": "code",
      "metadata": {
        "id": "ZXhRdZMIJDIU",
        "colab_type": "code",
        "colab": {
          "base_uri": "https://localhost:8080/",
          "height": 34
        },
        "outputId": "eac2df60-3ea2-4e39-d36e-edcc1fcfb2ac"
      },
      "source": [
        "print('Hello World')"
      ],
      "execution_count": null,
      "outputs": [
        {
          "output_type": "stream",
          "text": [
            "Hello World\n"
          ],
          "name": "stdout"
        }
      ]
    },
    {
      "cell_type": "code",
      "metadata": {
        "id": "bkwnz4y3tdl8",
        "colab_type": "code",
        "colab": {
          "base_uri": "https://localhost:8080/",
          "height": 34
        },
        "outputId": "d36999be-9c8b-40c0-adb5-1c933ee8ca48"
      },
      "source": [
        "print('Hello Your Name')"
      ],
      "execution_count": null,
      "outputs": [
        {
          "output_type": "stream",
          "text": [
            "Hello Your Name\n"
          ],
          "name": "stdout"
        }
      ]
    },
    {
      "cell_type": "markdown",
      "metadata": {
        "id": "CRkn2rq-LxUY",
        "colab_type": "text"
      },
      "source": [
        "Why Programming?\n",
        "\n",
        "\n",
        "1. Accomplish our daily task.\n",
        "2. Programmers have great potential careers.\n",
        "3. Demand is always high for programmers.\n",
        "4. Programming always gives you career flexibility."
      ]
    },
    {
      "cell_type": "markdown",
      "metadata": {
        "id": "JMKY8Zh7MdYi",
        "colab_type": "text"
      },
      "source": [
        "Why Python?\n",
        "\n",
        "1. High level and simple to understand language.\n",
        "2. Large Community base.\n",
        "3. High demand supply ratio.\n",
        "4. Various frameworks.\n",
        "5. Suitable language for AI and ML.\n",
        "\n",
        "Lets code-\n",
        "Write a Python program to add two numbers and analyze script \n",
        "\n"
      ]
    },
    {
      "cell_type": "code",
      "metadata": {
        "id": "LY3d5Ut2wYoJ",
        "colab_type": "code",
        "colab": {
          "base_uri": "https://localhost:8080/",
          "height": 34
        },
        "outputId": "2b1cec7c-5376-4e25-9b2b-34bb530c6923"
      },
      "source": [
        "x = 5\n",
        "y = 2\n",
        "print(x+y)"
      ],
      "execution_count": null,
      "outputs": [
        {
          "output_type": "stream",
          "text": [
            "7\n"
          ],
          "name": "stdout"
        }
      ]
    },
    {
      "cell_type": "markdown",
      "metadata": {
        "id": "yfN0VETERL6T",
        "colab_type": "text"
      },
      "source": [
        "**Python Programmer's Career**"
      ]
    },
    {
      "cell_type": "markdown",
      "metadata": {
        "id": "SSkMJaHTVG9F",
        "colab_type": "text"
      },
      "source": [
        "\n",
        "\n",
        "1. Application developer.\n",
        "2. Backend web designer.\n",
        "3. Data Analysts.\n",
        "4. Data Scientist.\n",
        "5. DevOps Engineer.\n",
        "\n"
      ]
    }
  ]
}